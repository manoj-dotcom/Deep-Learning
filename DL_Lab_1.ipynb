{
  "nbformat": 4,
  "nbformat_minor": 0,
  "metadata": {
    "colab": {
      "provenance": [],
      "authorship_tag": "ABX9TyOqIxZNmOzc54zK7y7wFeEZ",
      "include_colab_link": true
    },
    "kernelspec": {
      "name": "python3",
      "display_name": "Python 3"
    },
    "language_info": {
      "name": "python"
    }
  },
  "cells": [
    {
      "cell_type": "markdown",
      "metadata": {
        "id": "view-in-github",
        "colab_type": "text"
      },
      "source": [
        "<a href=\"https://colab.research.google.com/github/manoj-dotcom/Deep-Learning/blob/main/DL_Lab_1.ipynb\" target=\"_parent\"><img src=\"https://colab.research.google.com/assets/colab-badge.svg\" alt=\"Open In Colab\"/></a>"
      ]
    },
    {
      "cell_type": "code",
      "source": [
        "#Implement multilayer perceptron algorithm for MNIST Hand written Digit Classification"
      ],
      "metadata": {
        "id": "j3nOvZWst_qE"
      },
      "execution_count": null,
      "outputs": []
    },
    {
      "cell_type": "code",
      "source": [
        "import matplotlib.pyplot as plt\n",
        "from sklearn.datasets import fetch_openml\n",
        "from sklearn.neural_network import MLPClassifier\n",
        "\n",
        "X, y = fetch_openml(\"mnist_784\", version=1, return_X_y=True)\n",
        "\n",
        "X = X / 255.0\n",
        "#0 to 255 are colors \n",
        "#normalising colors by white\n",
        "print(X.shape)\n",
        "y\n",
        "print(y.shape)\n",
        "X_train, X_test = X[:60000], X[60000:]\n",
        "y_train, y_test = y[:60000], y[60000:]\n",
        "classifier = MLPClassifier(\n",
        "    hidden_layer_sizes=(50,20,10),\n",
        "    max_iter=10,\n",
        "    alpha=1e-4,\n",
        "    solver=\"sgd\",\n",
        "    verbose=10,\n",
        "    random_state=4,\n",
        "    learning_rate_init=0.1,\n",
        ")\n",
        "classifier.fit(X_train, y_train)\n",
        "print(\"Training set score: %f\" % classifier.score(X_train, y_train))\n",
        "print(\"Test set score: %f\" % classifier.score(X_test, y_test))\n",
        "fig, axes = plt.subplots(1, 1)\n",
        "axes.plot(classifier.loss_curve_, 'o-')\n",
        "axes.set_xlabel(\"number of iteration\")\n",
        "axes.set_ylabel(\"loss\")\n",
        "plt.show()"
      ],
      "metadata": {
        "colab": {
          "base_uri": "https://localhost:8080/",
          "height": 589
        },
        "id": "bYrpWsdkp9q7",
        "outputId": "d07da401-58a7-4bd2-fb8e-a05969519217"
      },
      "execution_count": null,
      "outputs": [
        {
          "output_type": "stream",
          "name": "stdout",
          "text": [
            "(70000, 784)\n",
            "(70000,)\n",
            "Iteration 1, loss = 0.39287337\n",
            "Iteration 2, loss = 0.15543213\n",
            "Iteration 3, loss = 0.11936640\n",
            "Iteration 4, loss = 0.10288698\n",
            "Iteration 5, loss = 0.09403714\n",
            "Iteration 6, loss = 0.08074862\n",
            "Iteration 7, loss = 0.07512817\n",
            "Iteration 8, loss = 0.06948087\n",
            "Iteration 9, loss = 0.06485329\n",
            "Iteration 10, loss = 0.05941323\n"
          ]
        },
        {
          "output_type": "stream",
          "name": "stderr",
          "text": [
            "/usr/local/lib/python3.8/dist-packages/sklearn/neural_network/_multilayer_perceptron.py:692: ConvergenceWarning: Stochastic Optimizer: Maximum iterations (10) reached and the optimization hasn't converged yet.\n",
            "  warnings.warn(\n"
          ]
        },
        {
          "output_type": "stream",
          "name": "stdout",
          "text": [
            "Training set score: 0.984933\n",
            "Test set score: 0.966300\n"
          ]
        },
        {
          "output_type": "display_data",
          "data": {
            "text/plain": [
              "<Figure size 432x288 with 1 Axes>"
            ],
            "image/png": "[encoded data removed]"
          },
          "metadata": {
            "needs_background": "light"
          }
        }
      ]
    }
  ]
}