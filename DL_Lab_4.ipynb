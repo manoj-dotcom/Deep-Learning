{
  "cells": [
    {
      "cell_type": "markdown",
      "metadata": {
        "id": "view-in-github",
        "colab_type": "text"
      },
      "source": [
        "<a href=\"https://colab.research.google.com/github/manoj-dotcom/Deep-Learning/blob/main/DL_Lab_4.ipynb\" target=\"_parent\"><img src=\"https://colab.research.google.com/assets/colab-badge.svg\" alt=\"Open In Colab\"/></a>"
      ]
    },
    {
      "cell_type": "code",
      "execution_count": null,
      "metadata": {
        "colab": {
          "base_uri": "https://localhost:8080/"
        },
        "id": "9DSa8e9w4trJ",
        "outputId": "54e4aff6-9e8a-40bb-f542-68e092edadbe"
      },
      "outputs": [
        {
          "output_type": "stream",
          "name": "stdout",
          "text": [
            "Downloading data from https://storage.googleapis.com/tensorflow/tf-keras-datasets/mnist.npz\n",
            "11490434/11490434 [==============================] - 0s 0us/step\n"
          ]
        }
      ],
      "source": [
        "import keras\n",
        "from keras.datasets import mnist\n",
        "from keras.models import Sequential\n",
        "\n",
        "from keras.layers import Dense, Dropout, Flatten\n",
        "from keras.layers import Conv2D, MaxPooling2D\n",
        "from keras import backend as K\n",
        "import tensorflow as tf\n",
        "\n",
        "mnist = tf.keras.datasets.mnist\n",
        "(x_train, y_train), (x_test, y_test) = mnist.load_data()"
      ]
    },
    {
      "cell_type": "code",
      "execution_count": null,
      "metadata": {
        "id": "V6TaMzng42Mn"
      },
      "outputs": [],
      "source": [
        "num_of_trainImgs = x_train.shape[0] #60000 here\n",
        "num_of_testImgs = x_test.shape[0] #10000 here\n",
        "img_width = 28\n",
        "img_height = 28\n",
        " \n",
        "x_train = x_train.reshape(x_train.shape[0], img_height, img_width, 1)\n",
        "x_test = x_test.reshape(x_test.shape[0], img_height, img_width, 1)\n",
        "input_shape = (img_height, img_width, 1)\n",
        " \n",
        "x_train = x_train.astype('float32')\n",
        "x_test = x_test.astype('float32')\n",
        "x_train /= 255\n",
        "x_test /= 255"
      ]
    },
    {
      "cell_type": "code",
      "execution_count": null,
      "metadata": {
        "colab": {
          "base_uri": "https://localhost:8080/"
        },
        "id": "92Fzs1Nn476Q",
        "outputId": "d23d9728-03ba-4fc2-c895-bdd5fda3aa51"
      },
      "outputs": [
        {
          "output_type": "execute_result",
          "data": {
            "text/plain": [
              "array([5, 0, 4, ..., 5, 6, 8], dtype=uint8)"
            ]
          },
          "metadata": {},
          "execution_count": 3
        }
      ],
      "source": [
        "y_train"
      ]
    },
    {
      "cell_type": "code",
      "execution_count": null,
      "metadata": {
        "id": "C81yunQo49BV"
      },
      "outputs": [],
      "source": [
        "num_classes = 10\n",
        "y_train = keras.utils.to_categorical(y_train, num_classes)\n",
        "y_test = keras.utils.to_categorical(y_test, num_classes)"
      ]
    },
    {
      "cell_type": "code",
      "execution_count": null,
      "metadata": {
        "id": "3_7Paao45BDX"
      },
      "outputs": [],
      "source": [
        "model = Sequential()\n",
        "model.add(Conv2D(32, kernel_size=(3, 3),\n",
        "                 activation='relu',\n",
        "                 input_shape=input_shape))\n",
        "model.add(Conv2D(64, (3, 3), activation='relu'))\n",
        "model.add(MaxPooling2D(pool_size=(2, 2)))\n",
        "model.add(Dropout(0.25))\n",
        "model.add(Flatten())\n",
        "model.add(Dense(128, activation='relu'))\n",
        "model.add(Dropout(0.5))\n",
        "model.add(Dense(num_classes, activation='softmax'))"
      ]
    },
    {
      "cell_type": "code",
      "execution_count": null,
      "metadata": {
        "id": "K85-m3YQ5FgG"
      },
      "outputs": [],
      "source": [
        "model.compile(loss=keras.losses.categorical_crossentropy,\n",
        "              optimizer=keras.optimizers.Adadelta(),\n",
        "              metrics=['accuracy'])"
      ]
    },
    {
      "cell_type": "code",
      "execution_count": null,
      "metadata": {
        "colab": {
          "base_uri": "https://localhost:8080/"
        },
        "id": "hKXF2eSe5IrG",
        "outputId": "04eb7778-8808-4516-ce62-16b4e3074bfc"
      },
      "outputs": [
        {
          "output_type": "stream",
          "name": "stdout",
          "text": [
            "Epoch 1/10\n",
            "469/469 [==============================] - 123s 260ms/step - loss: 2.2949 - accuracy: 0.1271 - val_loss: 2.2763 - val_accuracy: 0.2617\n",
            "Epoch 2/10\n",
            "469/469 [==============================] - 118s 251ms/step - loss: 2.2636 - accuracy: 0.2290 - val_loss: 2.2382 - val_accuracy: 0.5009\n",
            "Epoch 3/10\n",
            "469/469 [==============================] - 118s 252ms/step - loss: 2.2230 - accuracy: 0.3364 - val_loss: 2.1877 - val_accuracy: 0.6058\n",
            "Epoch 4/10\n",
            "469/469 [==============================] - 115s 245ms/step - loss: 2.1682 - accuracy: 0.4123 - val_loss: 2.1186 - val_accuracy: 0.6650\n",
            "Epoch 5/10\n",
            "469/469 [==============================] - 115s 245ms/step - loss: 2.0916 - accuracy: 0.4728 - val_loss: 2.0213 - val_accuracy: 0.7040\n",
            "Epoch 6/10\n",
            "469/469 [==============================] - 116s 247ms/step - loss: 1.9876 - accuracy: 0.5211 - val_loss: 1.8853 - val_accuracy: 0.7291\n",
            "Epoch 7/10\n",
            "469/469 [==============================] - 116s 248ms/step - loss: 1.8460 - accuracy: 0.5634 - val_loss: 1.7057 - val_accuracy: 0.7460\n",
            "Epoch 8/10\n",
            "469/469 [==============================] - 117s 249ms/step - loss: 1.6733 - accuracy: 0.5950 - val_loss: 1.4972 - val_accuracy: 0.7598\n",
            "Epoch 9/10\n",
            "469/469 [==============================] - 116s 248ms/step - loss: 1.4989 - accuracy: 0.6195 - val_loss: 1.2901 - val_accuracy: 0.7753\n",
            "Epoch 10/10\n",
            "469/469 [==============================] - 118s 252ms/step - loss: 1.3377 - accuracy: 0.6451 - val_loss: 1.1110 - val_accuracy: 0.7878\n"
          ]
        },
        {
          "output_type": "execute_result",
          "data": {
            "text/plain": [
              "<keras.callbacks.History at 0x7f4a2e990190>"
            ]
          },
          "metadata": {},
          "execution_count": 7
        }
      ],
      "source": [
        "model.fit(x_train, y_train,\n",
        "          batch_size=128,\n",
        "          epochs=10,\n",
        "          verbose=1,\n",
        "          validation_data=(x_test, y_test))"
      ]
    },
    {
      "cell_type": "code",
      "execution_count": null,
      "metadata": {
        "id": "g3TMz1ko5Lnr",
        "outputId": "600895c1-d1f7-4735-daf2-39a8e9b1fd25",
        "colab": {
          "base_uri": "https://localhost:8080/"
        }
      },
      "outputs": [
        {
          "output_type": "stream",
          "name": "stdout",
          "text": [
            "313/313 [==============================] - 6s 18ms/step - loss: 1.1110 - accuracy: 0.7878\n",
            "Test score: 1.1109941005706787\n",
            "Test accuracy: 0.7878000140190125\n"
          ]
        }
      ],
      "source": [
        "score, acc= model.evaluate(x_test, y_test)\n",
        "print('Test score:', score)\n",
        "print('Test accuracy:', acc)"
      ]
    }
  ],
  "metadata": {
    "colab": {
      "provenance": [],
      "authorship_tag": "ABX9TyP9X15yeq9WNZZ5WPYhgVTU",
      "include_colab_link": true
    },
    "kernelspec": {
      "display_name": "Python 3",
      "name": "python3"
    },
    "language_info": {
      "name": "python"
    }
  },
  "nbformat": 4,
  "nbformat_minor": 0
}